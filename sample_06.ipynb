{
 "cells": [
  {
   "cell_type": "markdown",
   "id": "58d3bffb-106e-45e6-8cfd-d51f4d7e39fa",
   "metadata": {},
   "source": [
    "# 🔰PyTorchでニューラルネットワーク基礎 #06【中間層特徴量の抽出】\n",
    "\n",
    "* [Qiita](https://qiita.com/AzukiImo/items/c19bc36a613a6f1caf00)の記事と連動しています\n",
    "* ネットワークなどの基本構造はsample_05.ipynbと同一\n",
    "* データファイル: aiueo.npz\n",
    "* データファイルの保存先: dataフォルダ"
   ]
  },
  {
   "cell_type": "code",
   "execution_count": 1,
   "id": "bfb39fa1-0d18-47cd-87e2-036890ee0bdb",
   "metadata": {},
   "outputs": [],
   "source": [
    "import numpy as np\n",
    "import torch\n",
    "import torch.nn as nn\n",
    "from sklearn.model_selection import train_test_split\n",
    "\n",
    "import matplotlib.pyplot as plt\n",
    "import japanize_matplotlib"
   ]
  },
  {
   "cell_type": "code",
   "execution_count": 2,
   "id": "5bf1f2a9-954e-47c9-aca3-4c1323ef418a",
   "metadata": {},
   "outputs": [
    {
     "name": "stdout",
     "output_type": "stream",
     "text": [
      "Using Device Name: cuda:0\n"
     ]
    }
   ],
   "source": [
    "#デバイスの選択\n",
    "device = \"cuda:0\" if torch.cuda.is_available() else \"cpu\"\n",
    "print(\"Using Device Name:\", device)"
   ]
  },
  {
   "cell_type": "code",
   "execution_count": 3,
   "id": "3bf85415-7ee5-4a45-bbd9-8bfec37ee035",
   "metadata": {},
   "outputs": [],
   "source": [
    "# 精度を計算する関数\n",
    "def accuracy(y, t):\n",
    "    _, argmax_list = torch.max(y, dim=1)\n",
    "    accuracy = sum(argmax_list == t).item()/len(t)\n",
    "    return accuracy"
   ]
  },
  {
   "cell_type": "code",
   "execution_count": 4,
   "id": "f7ed4525-2e50-4029-8007-2ccbcde5810b",
   "metadata": {},
   "outputs": [],
   "source": [
    "data = np.load(\"./data/aiueo.npz\")\n",
    "x = data[\"x\"]\n",
    "t = data[\"t\"]\n",
    "\n",
    "# torchテンソルに変換\n",
    "x = torch.FloatTensor(x).to(device)\n",
    "t = torch.LongTensor(t).to(device)\n",
    "\n",
    "x, x_test, t, t_test = train_test_split(x,t, test_size=0.1, random_state=55)"
   ]
  },
  {
   "cell_type": "code",
   "execution_count": 5,
   "id": "1ffae40a-33af-49a8-9b05-a53df5ff8c08",
   "metadata": {},
   "outputs": [
    {
     "data": {
      "text/plain": [
       "(torch.Size([712, 1, 28, 28]), torch.Size([80, 1, 28, 28]), torch.Size([712]))"
      ]
     },
     "execution_count": 5,
     "metadata": {},
     "output_type": "execute_result"
    }
   ],
   "source": [
    "x.shape, x_test.shape, t.shape"
   ]
  },
  {
   "cell_type": "markdown",
   "id": "a2d98124-6149-470a-8c15-d0b3bd7e3bf9",
   "metadata": {},
   "source": [
    "## 確認ポイント\n",
    "1. カーネルサイズと出力後の形状\n",
    "2. out_channelsの効果\n",
    "3. flatten\n",
    "4. Linearのin_featuresの計算方法\n",
    "5. 活性化関数の引数\n",
    "   * nn.LeakyReLU()の場合は、\\_\\_init__ 内でオプションを指定\n",
    "   * F.leaky_relu()の場合は、forward()で使うときに、 l_relu(h, negative_slope=0.01)と使用時にオプションを記入\n",
    "     "
   ]
  },
  {
   "cell_type": "code",
   "execution_count": 6,
   "id": "b00396d6-b37e-4c0e-a07d-9585057ed607",
   "metadata": {},
   "outputs": [],
   "source": [
    "##### モデル定義\n",
    "class DNN(nn.Module):\n",
    "    def __init__(self):\n",
    "        super(DNN, self).__init__()\n",
    "        self.cnn1 = nn.Conv2d(in_channels=1, out_channels=5 ,kernel_size=5)\n",
    "        self.act1 = nn.LeakyReLU(negative_slope=0.01)  # Leaky ReLU導入\n",
    "        self.pool1= nn.MaxPool2d(kernel_size=2, stride=2)\n",
    "\n",
    "        self.flat = nn.Flatten()\n",
    "        self.fc1 =  nn.Linear(in_features=5*12*12, out_features=100)\n",
    "        self.act2 = nn.ReLU()\n",
    "        self.fc2 = nn.Linear(in_features=100, out_features=5)\n",
    "        \n",
    "    def forward(self, x):\n",
    "        h = self.cnn1(x)\n",
    "        h = self.act1(h)\n",
    "        h = self.pool1(h)\n",
    "        h = self.flat(h)\n",
    "        h = self.fc1(h)\n",
    "        h = self.act2(h)\n",
    "        y = self.fc2(h)\n",
    "        return y"
   ]
  },
  {
   "cell_type": "code",
   "execution_count": 7,
   "id": "37555b82-d1de-4973-b749-699c137454e5",
   "metadata": {},
   "outputs": [
    {
     "data": {
      "text/plain": [
       "DNN(\n",
       "  (cnn1): Conv2d(1, 5, kernel_size=(5, 5), stride=(1, 1))\n",
       "  (act1): LeakyReLU(negative_slope=0.01)\n",
       "  (pool1): MaxPool2d(kernel_size=2, stride=2, padding=0, dilation=1, ceil_mode=False)\n",
       "  (flat): Flatten(start_dim=1, end_dim=-1)\n",
       "  (fc1): Linear(in_features=720, out_features=100, bias=True)\n",
       "  (act2): ReLU()\n",
       "  (fc2): Linear(in_features=100, out_features=5, bias=True)\n",
       ")"
      ]
     },
     "execution_count": 7,
     "metadata": {},
     "output_type": "execute_result"
    }
   ],
   "source": [
    "model = DNN()\n",
    "model.to(device)"
   ]
  },
  {
   "cell_type": "code",
   "execution_count": 8,
   "id": "c3d19406-32fd-4a26-80d7-1e32408b6d69",
   "metadata": {},
   "outputs": [],
   "source": [
    "# loss and optimizer\n",
    "criterion = nn.CrossEntropyLoss()   \n",
    "optimizer = torch.optim.Adam(model.parameters(), lr=0.0005)"
   ]
  },
  {
   "cell_type": "code",
   "execution_count": 9,
   "id": "ce232552-ea0d-4243-a0d1-90fcaa4da8a5",
   "metadata": {},
   "outputs": [
    {
     "name": "stdout",
     "output_type": "stream",
     "text": [
      "49: loss: 0.6073104739189148, acc: 0.8932584269662921\n",
      "99: loss: 0.3157322108745575, acc: 0.9311797752808989\n",
      "149: loss: 0.22354601323604584, acc: 0.9536516853932584\n",
      "199: loss: 0.15911154448986053, acc: 0.9662921348314607\n",
      "249: loss: 0.10984654724597931, acc: 0.9747191011235955\n",
      "299: loss: 0.07371295988559723, acc: 0.9845505617977528\n"
     ]
    }
   ],
   "source": [
    "# 機械学習\n",
    "LOOP = 300\n",
    "for epoch in range(LOOP):\n",
    "    optimizer.zero_grad()\n",
    "    y = model(x)\n",
    "    loss = criterion(y, t)\n",
    "    acc  = accuracy(y,t)\n",
    "    loss.backward()\n",
    "    optimizer.step()\n",
    "    if (epoch+1)%50 == 0:\n",
    "        print(f\"{epoch}: loss: {loss.item()}, acc: {acc}\")  # バッチ全体での損失や精度"
   ]
  },
  {
   "cell_type": "code",
   "execution_count": 11,
   "id": "87b34f9f-84d1-4453-9f86-75e9f270deb4",
   "metadata": {},
   "outputs": [
    {
     "name": "stdout",
     "output_type": "stream",
     "text": [
      "精度:0.975\n"
     ]
    }
   ],
   "source": [
    "model.eval()\n",
    "y_test = model(x_test)\n",
    "test_acc = accuracy(y_test, t_test)\n",
    "print(f\"精度:{test_acc}\")"
   ]
  },
  {
   "cell_type": "markdown",
   "id": "aa9c291d-d205-4a5c-af3d-4331bdbb45ff",
   "metadata": {},
   "source": [
    "## 特徴量の可視化"
   ]
  },
  {
   "cell_type": "markdown",
   "id": "c8e6936d-403e-4b93-b652-e010177ed3bb",
   "metadata": {},
   "source": [
    "# register_forward_hookを利用した中間層の特徴量抽出\n",
    "\n",
    "https://docs.pytorch.org/docs/stable/notes/modules.html\n",
    "\n",
    "### CNNとPOOLの出力"
   ]
  },
  {
   "cell_type": "code",
   "execution_count": 37,
   "id": "5de6b5ee-6ebc-4e3c-9498-518b60edc02a",
   "metadata": {},
   "outputs": [],
   "source": [
    "# 中間層の出力を保存するための辞書\n",
    "# {ネットワーク名: ネットワーク名の出力値,...}\n",
    "feature_maps = {}\n",
    "\n",
    "# module: ネットワーク層 nn.Linear，nn.Conv2d\n",
    "# input: moduleに入力される値 画像だと（b, c, h, w)\n",
    "# output: moduleの出力値 画像だと CNN出力の(b, c, h, w)\n",
    "# hook関数の名前は何でもよいが、引数は必ず、module, input, outputの3種類（x,y,z)でもOK\n",
    "def register_activation_hook(name):\n",
    "    \"\"\"\n",
    "    アクティベーション（中間層出力）を取得するためのフック関数を返す \n",
    "    Parameters:\n",
    "        name (str): 層の識別名（辞書のキーとして使用）\n",
    "    Returns:\n",
    "        function: PyTorchのフォワードフック関数　register_activation_hookの引数になる\n",
    "    \"\"\"\n",
    "    def hook(module, input, output):\n",
    "        feature_maps[name] = output.detach()\n",
    "    return hook\n",
    "\n",
    "# 抽出するネットワーク名を登録する\n",
    "hooks = []\n",
    "hooks.append(model.cnn1.register_forward_hook(register_activation_hook(\"cnn1\")))\n",
    "hooks.append(model.act1.register_forward_hook(register_activation_hook(\"act1\")))\n",
    "hooks.append(model.pool1.register_forward_hook(register_activation_hook(\"pool1\")))"
   ]
  },
  {
   "cell_type": "code",
   "execution_count": 39,
   "id": "ee7c9605-8050-4b18-86ec-978fab9d850f",
   "metadata": {},
   "outputs": [
    {
     "name": "stdout",
     "output_type": "stream",
     "text": [
      "tensor([[-2.4911,  5.7498, -0.9894, -1.5190, -1.0798]], device='cuda:0')\n",
      "cnn1: torch.Size([1, 5, 24, 24])\n",
      "act1: torch.Size([1, 5, 24, 24])\n",
      "pool1: torch.Size([1, 5, 12, 12])\n"
     ]
    }
   ],
   "source": [
    "model.eval()\n",
    "# テスト用の一つの画像を選択\n",
    "# あ：300, い：500　う：200 え：600　お:100\n",
    "sample_image = x[500].unsqueeze(0)  # バッチ次元を追加 (1, 1, 28, 28)\n",
    "\n",
    "with torch.no_grad():\n",
    "    output = model(sample_image)\n",
    "print(output)\n",
    "\n",
    "# 確認のためにキーと形状を表示するコードを追加すると良い\n",
    "for layer_name, feature_map in feature_maps.items():\n",
    "    print(f\"{layer_name}: {feature_map.shape}\")"
   ]
  },
  {
   "cell_type": "markdown",
   "id": "9adff586-c0e6-4344-b065-aaba23404b88",
   "metadata": {},
   "source": [
    "## CNNの出力値の可視化\n",
    "* feature_maps[\"cnn1\"]がCNNの出力値"
   ]
  },
  {
   "cell_type": "code",
   "execution_count": 40,
   "id": "8f1ccd8c-a39c-42fa-9647-dbbaf1400c3e",
   "metadata": {},
   "outputs": [
    {
     "data": {
      "image/png": "[encoded data removed]",
      "text/plain": [
       "<Figure size 1000x300 with 5 Axes>"
      ]
     },
     "metadata": {},
     "output_type": "display_data"
    }
   ],
   "source": [
    "cnn_feature_map = feature_maps[\"cnn1\"].squeeze().cpu().numpy()\n",
    "\n",
    "fig, axes = plt.subplots(1, 5, figsize=(10, 3))\n",
    "plt.suptitle('CNN出力 (特徴マップ)')\n",
    "for i, ax in enumerate(axes.flat):\n",
    "    ax.imshow(cnn_feature_map[i], cmap=\"gray\")\n",
    "    ax.axis('off')\n",
    "plt.tight_layout()\n",
    "plt.show()"
   ]
  },
  {
   "cell_type": "markdown",
   "id": "27143833-1a75-4901-a155-09224f580ef8",
   "metadata": {},
   "source": [
    "## プーリング層の出力値の可視化\n",
    "* feature_maps[\"pool1\"]がCNNの出力値"
   ]
  },
  {
   "cell_type": "code",
   "execution_count": 41,
   "id": "6a5d007a-eb79-4301-bef1-4477ee2faa90",
   "metadata": {},
   "outputs": [
    {
     "data": {
      "image/png": "[encoded data removed]",
      "text/plain": [
       "<Figure size 1000x300 with 5 Axes>"
      ]
     },
     "metadata": {},
     "output_type": "display_data"
    }
   ],
   "source": [
    "pool_feature_map = feature_maps[\"pool1\"].squeeze().cpu().numpy()\n",
    "\n",
    "fig, axes = plt.subplots(1, 5, figsize=(10, 3))\n",
    "plt.suptitle('POOL層 (特徴マップ)')\n",
    "for i, ax in enumerate(axes.flat):\n",
    "    ax.imshow(pool_feature_map[i], cmap=\"gray\")\n",
    "    ax.axis('off')\n",
    "plt.tight_layout()\n",
    "plt.show()"
   ]
  },
  {
   "cell_type": "code",
   "execution_count": 42,
   "id": "913dcce7-4b8a-4b29-a014-bc437bcf9a7f",
   "metadata": {},
   "outputs": [
    {
     "data": {
      "image/png": "[encoded data removed]",
      "text/plain": [
       "<Figure size 1000x300 with 5 Axes>"
      ]
     },
     "metadata": {},
     "output_type": "display_data"
    }
   ],
   "source": [
    "act_feature_map = feature_maps[\"act1\"].squeeze().cpu().numpy()\n",
    "\n",
    "fig, axes = plt.subplots(1, 5, figsize=(10, 3))\n",
    "plt.suptitle('act層 (特徴マップ)')\n",
    "for i, ax in enumerate(axes.flat):\n",
    "    ax.imshow(act_feature_map[i], cmap=\"gray\")\n",
    "    ax.axis('off')\n",
    "plt.tight_layout()\n",
    "plt.show()"
   ]
  },
  {
   "cell_type": "markdown",
   "id": "bf455af7-08b0-4d6e-aab9-f464ec0aed8a",
   "metadata": {},
   "source": [
    "## 参考\n",
    "* hookの削除と確認"
   ]
  },
  {
   "cell_type": "code",
   "execution_count": 34,
   "id": "803cf862-5c35-488b-8eb7-f471ef253a03",
   "metadata": {},
   "outputs": [
    {
     "name": "stdout",
     "output_type": "stream",
     "text": [
      "feature_mapsの値が空っぽのはず：{}\n"
     ]
    }
   ],
   "source": [
    "# (オプション) hookの削除\n",
    "# hookは一度登録すると、モデルのフォワードパスごとに呼び出されます。\n",
    "# 不要になったら削除する　activation_outputsの値は削除されないよ\n",
    "for hook in hooks:\n",
    "    hook.remove()\n",
    "\n",
    "# 再度フォワードパスを実行しても、activation_outputsは更新されない\n",
    "feature_maps.clear() # 確認のためクリア\n",
    "output_after_remove = model(sample_image)\n",
    "print(f\"feature_mapsの値が空っぽのはず：{feature_maps}\")"
   ]
  }
 ],
 "metadata": {
  "kernelspec": {
   "display_name": "Python 3 (ipykernel)",
   "language": "python",
   "name": "python3"
  },
  "language_info": {
   "codemirror_mode": {
    "name": "ipython",
    "version": 3
   },
   "file_extension": ".py",
   "mimetype": "text/x-python",
   "name": "python",
   "nbconvert_exporter": "python",
   "pygments_lexer": "ipython3",
   "version": "3.10.12"
  }
 },
 "nbformat": 4,
 "nbformat_minor": 5
}
