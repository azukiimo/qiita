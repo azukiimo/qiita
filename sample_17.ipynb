{
 "cells": [
  {
   "cell_type": "markdown",
   "id": "d31a8927",
   "metadata": {},
   "source": [
    "## 🔰PyTorchでニューラルネットワーク基礎 #17 【分位点回帰】\n",
    "\n",
    "### 内容\n",
    "* Qiitaの記事と連動\n",
    "* ニューラルネットワークを利用した分位点回帰の演習\n",
    "* データはスポーツ飲料と気温の関係\n",
    "\n",
    "### ニューラルネットワークによる分位点回帰\n",
    "* 分位点をもとに回帰分析する方法\n",
    "* 楽観的、悲観的、通常と幅のある予測が可能となる\n",
    "* 現在の販売状況から3種類（分位点の数）のシナリオで判断できる。\n",
    "\n",
    "\n",
    "### スポーツ飲料と気温の関係\n",
    "* [全国清涼飲料連合会](https://www.j-sda.or.jp/index.php)\n",
    "* [気象庁共同プロジェクト](https://www.j-sda.or.jp/about/comprehensive_measures/weather/kekka04.php)\n",
    "* 気象庁共同プロジェクトからDL4.xlsファイルをダウンロード、sports_temp.csvとファイル名を変更して利用します"
   ]
  },
  {
   "cell_type": "code",
   "execution_count": null,
   "id": "c46c6156",
   "metadata": {},
   "outputs": [],
   "source": [
    "import pandas as pd\n",
    "df = pd.read_csv(\"./data/sports_temp.csv\")\n",
    "df.head()"
   ]
  },
  {
   "cell_type": "markdown",
   "id": "131ab375",
   "metadata": {},
   "source": [
    "### ニューラルネットワークモデル"
   ]
  },
  {
   "cell_type": "code",
   "execution_count": 3,
   "id": "854941ae",
   "metadata": {},
   "outputs": [
    {
     "name": "stdout",
     "output_type": "stream",
     "text": [
      "Using Device Name: cuda:0\n"
     ]
    }
   ],
   "source": [
    "import numpy as np\n",
    "import torch\n",
    "import torch.nn as nn\n",
    "from sklearn.model_selection import train_test_split\n",
    "\n",
    "#デバイスの選択\n",
    "device = \"cuda:0\" if torch.cuda.is_available() else \"cpu\"\n",
    "print(\"Using Device Name:\", device)"
   ]
  },
  {
   "cell_type": "code",
   "execution_count": 4,
   "id": "029a4d01",
   "metadata": {},
   "outputs": [],
   "source": [
    "x = df[\"平均気温\"]\n",
    "t = df[\"販売指数\"]\n",
    "\n",
    "# torchテンソルに変換\n",
    "x = torch.FloatTensor(x).view(-1,1).to(device)\n",
    "t = torch.FloatTensor(t).view(-1,1).to(device)\n",
    "\n",
    "x_train, x_test, t_train, t_test = train_test_split(x,t,random_state=55)"
   ]
  },
  {
   "cell_type": "markdown",
   "id": "a9da3526",
   "metadata": {},
   "source": [
    "### ネットワークの定義\n",
    "* 全結合層2層と活性化関数で非線形化\n",
    "* 最終出力が分位点数（0.1、0.5、0.9の3種類）"
   ]
  },
  {
   "cell_type": "code",
   "execution_count": 5,
   "id": "e4ee00a2",
   "metadata": {},
   "outputs": [],
   "source": [
    "class DNN(nn.Module):\n",
    "    def __init__(self):\n",
    "        super(DNN, self).__init__()\n",
    "        self.fc1 = nn.Linear(in_features=1, out_features=8)\n",
    "        self.bn1 = nn.BatchNorm1d(8)\n",
    "        self.act1 = nn.Sigmoid()\n",
    "        self.fc2 =  nn.Linear(in_features=8, out_features=3)\n",
    "\n",
    "    def forward(self, x):\n",
    "        h = self.fc1(x)\n",
    "        h = self.bn1(h)\n",
    "        h = self.act1(h)\n",
    "        y = self.fc2(h)\n",
    "        return y"
   ]
  },
  {
   "cell_type": "markdown",
   "id": "b99d74c5",
   "metadata": {},
   "source": [
    "### 分位点回帰の損失関数\n",
    "* ピンボール関数を利用する"
   ]
  },
  {
   "cell_type": "code",
   "execution_count": 6,
   "id": "085f3dff",
   "metadata": {},
   "outputs": [],
   "source": [
    "# 損失関数のクラスと定義\n",
    "class PinballLoss(nn.Module):\n",
    "    def __init__(self, quantiles, device=\"cpu\"):\n",
    "        super().__init__()\n",
    "        self.quantiles = torch.FloatTensor(quantiles).to(device)\n",
    "        \n",
    "    def forward(self, pred_values, actual_values):\n",
    "        error = actual_values - pred_values\n",
    "        # ピンボール損失の計算: max((q-1)*residual, q*residual)\n",
    "        M = torch.max((self.quantiles - 1) * error, self.quantiles * error)\n",
    "        loss = M.mean(dim=0).sum()     # 各分位点での損失平均を取り、合計する\n",
    "        return loss"
   ]
  },
  {
   "cell_type": "code",
   "execution_count": 7,
   "id": "8869ee09",
   "metadata": {},
   "outputs": [],
   "source": [
    "# 分位点の設定\n",
    "quantiles = [0.1, 0.5, 0.9]"
   ]
  },
  {
   "cell_type": "code",
   "execution_count": 8,
   "id": "7b8620dd",
   "metadata": {},
   "outputs": [
    {
     "data": {
      "text/plain": [
       "DNN(\n",
       "  (fc1): Linear(in_features=1, out_features=8, bias=True)\n",
       "  (bn1): BatchNorm1d(8, eps=1e-05, momentum=0.1, affine=True, track_running_stats=True)\n",
       "  (act1): Sigmoid()\n",
       "  (fc2): Linear(in_features=8, out_features=3, bias=True)\n",
       ")"
      ]
     },
     "execution_count": 8,
     "metadata": {},
     "output_type": "execute_result"
    }
   ],
   "source": [
    "model = DNN()\n",
    "model.to(device)"
   ]
  },
  {
   "cell_type": "markdown",
   "id": "4a0005e5",
   "metadata": {},
   "source": [
    "### 損失関数を指定\n",
    "* 回帰モデルだけど、MSELossではなく分位点回帰なので作成した**PinballLoss**を使う"
   ]
  },
  {
   "cell_type": "code",
   "execution_count": 9,
   "id": "d0e52fea",
   "metadata": {},
   "outputs": [],
   "source": [
    "criterion = PinballLoss(quantiles=quantiles, device=device)\n",
    "optimizer = torch.optim.Adam(model.parameters())"
   ]
  },
  {
   "cell_type": "code",
   "execution_count": 10,
   "id": "e761ed22",
   "metadata": {},
   "outputs": [
    {
     "name": "stdout",
     "output_type": "stream",
     "text": [
      "999: loss: 0.20229321718215942\n",
      "1999: loss: 0.16672971844673157\n",
      "2999: loss: 0.15055570006370544\n",
      "3999: loss: 0.14460760354995728\n",
      "4999: loss: 0.14255443215370178\n"
     ]
    }
   ],
   "source": [
    "LOOP = 5000\n",
    "for epoch in range(LOOP):\n",
    "    optimizer.zero_grad()\n",
    "    y = model(x)\n",
    "    loss = criterion(y, t)\n",
    "    loss.backward()\n",
    "    optimizer.step()\n",
    "    if (epoch+1)%1000 == 0:\n",
    "        print(f\"{epoch}: loss: {loss.item()}\")"
   ]
  },
  {
   "cell_type": "markdown",
   "id": "d665801a",
   "metadata": {},
   "source": [
    "### 可視化"
   ]
  },
  {
   "cell_type": "markdown",
   "id": "cd897486",
   "metadata": {},
   "source": [
    "## モデルの予測線を描画する\n",
    "* 平均気温の最小値〜最大値の範囲で100分割（temp_range）して、予測線の入力値とする\n",
    "* 予測線は、temp_rangeに対してplotする"
   ]
  },
  {
   "cell_type": "code",
   "execution_count": 11,
   "id": "13f79ad4",
   "metadata": {},
   "outputs": [
    {
     "data": {
      "text/plain": [
       "(100, 3)"
      ]
     },
     "execution_count": 11,
     "metadata": {},
     "output_type": "execute_result"
    }
   ],
   "source": [
    "model.eval()\n",
    "np_temp_range = np.linspace(df['平均気温'].min(), df['平均気温'].max(), 100)\n",
    "temp_range = torch.FloatTensor(np_temp_range).view(-1,1).to(device)\n",
    "\n",
    "with torch.inference_mode():\n",
    "    pred = model(temp_range)\n",
    "pred = pred.cpu().detach().numpy()\n",
    "\n",
    "# predの形状が、分位点3個毎になる\n",
    "pred.shape"
   ]
  },
  {
   "cell_type": "code",
   "execution_count": 12,
   "id": "04e713cd",
   "metadata": {},
   "outputs": [],
   "source": [
    "import matplotlib.pyplot as plt\n",
    "import japanize_matplotlib"
   ]
  },
  {
   "cell_type": "markdown",
   "id": "276f5138",
   "metadata": {},
   "source": [
    "### 検証データでチェック\n",
    "* ○マークがテストデータ\n",
    "* 予測範囲内に収まっているのかチェック\n",
    "* 0.1線と0.9線の間が80%起きる確率\n",
    "* 26, 27度のあたり、0.1分位の予測線を下回っている"
   ]
  },
  {
   "cell_type": "code",
   "execution_count": 13,
   "id": "1e6b7f69",
   "metadata": {},
   "outputs": [
    {
     "data": {
      "image/png": "[encoded data removed]",
      "text/plain": [
       "<Figure size 600x400 with 1 Axes>"
      ]
     },
     "metadata": {},
     "output_type": "display_data"
    }
   ],
   "source": [
    "np_x_test = x_test.detach().cpu().numpy()\n",
    "np_t_test = t_test.detach().cpu().numpy()\n",
    "\n",
    "fig, ax = plt.subplots(figsize=(6,4))\n",
    "ax.scatter(np_x_test, np_t_test, color=\"skyblue\", label=\"テストデータ\", alpha=0.6)  # 実際のデータを散布図としてプロット\n",
    "for i, t in enumerate(quantiles):\n",
    "    # 予測曲線をプロット\n",
    "    ax.plot(np_temp_range, pred.T[i], label=t)\n",
    "# グラフのタイトルとラベルを設定\n",
    "ax.set_title(\"ニューラルネットワークモデルのフィット\")\n",
    "ax.set_xlabel(\"平均気温\")\n",
    "ax.set_ylabel(\"販売指数\")\n",
    "ax.legend()\n",
    "ax.grid()\n",
    "plt.show()"
   ]
  },
  {
   "cell_type": "markdown",
   "id": "7960f1fe",
   "metadata": {},
   "source": [
    "### 気温から販売指数を予測してみた"
   ]
  },
  {
   "cell_type": "code",
   "execution_count": null,
   "id": "21b2dd16",
   "metadata": {},
   "outputs": [
    {
     "data": {
      "text/html": [
       "<div>\n",
       "<style scoped>\n",
       "    .dataframe tbody tr th:only-of-type {\n",
       "        vertical-align: middle;\n",
       "    }\n",
       "\n",
       "    .dataframe tbody tr th {\n",
       "        vertical-align: top;\n",
       "    }\n",
       "\n",
       "    .dataframe thead th {\n",
       "        text-align: right;\n",
       "    }\n",
       "</style>\n",
       "<table border=\"1\" class=\"dataframe\">\n",
       "  <thead>\n",
       "    <tr style=\"text-align: right;\">\n",
       "      <th></th>\n",
       "      <th>気温</th>\n",
       "      <th>悲観的(0.1)</th>\n",
       "      <th>通常(0.5)</th>\n",
       "      <th>楽観的(0.9)</th>\n",
       "    </tr>\n",
       "  </thead>\n",
       "  <tbody>\n",
       "    <tr>\n",
       "      <th>0</th>\n",
       "      <td>20.0</td>\n",
       "      <td>0.788900</td>\n",
       "      <td>1.062313</td>\n",
       "      <td>1.393680</td>\n",
       "    </tr>\n",
       "    <tr>\n",
       "      <th>1</th>\n",
       "      <td>25.0</td>\n",
       "      <td>1.325872</td>\n",
       "      <td>1.683748</td>\n",
       "      <td>2.057495</td>\n",
       "    </tr>\n",
       "    <tr>\n",
       "      <th>2</th>\n",
       "      <td>30.0</td>\n",
       "      <td>2.338599</td>\n",
       "      <td>2.651761</td>\n",
       "      <td>2.971779</td>\n",
       "    </tr>\n",
       "    <tr>\n",
       "      <th>3</th>\n",
       "      <td>35.0</td>\n",
       "      <td>3.141405</td>\n",
       "      <td>3.414234</td>\n",
       "      <td>3.684154</td>\n",
       "    </tr>\n",
       "    <tr>\n",
       "      <th>4</th>\n",
       "      <td>40.0</td>\n",
       "      <td>3.528803</td>\n",
       "      <td>3.809758</td>\n",
       "      <td>4.066600</td>\n",
       "    </tr>\n",
       "  </tbody>\n",
       "</table>\n",
       "</div>"
      ],
      "text/plain": [
       "     気温  悲観的(0.1)   通常(0.5)  楽観的(0.9)\n",
       "0  20.0  0.788900  1.062313  1.393680\n",
       "1  25.0  1.325872  1.683748  2.057495\n",
       "2  30.0  2.338599  2.651761  2.971779\n",
       "3  35.0  3.141405  3.414234  3.684154\n",
       "4  40.0  3.528803  3.809758  4.066600"
      ]
     },
     "execution_count": 14,
     "metadata": {},
     "output_type": "execute_result"
    }
   ],
   "source": [
    "# 代表的な気温を入力データとして準備\n",
    "temp = torch.FloatTensor([[20],[25],[30],[35],[40]]).to(device)   # FloatTensorだよ\n",
    "prediction = model(temp)    # model(temp)で予測値が計算される。出力は３種類（分位点0.1〜0.9）\n",
    "\n",
    "# 表の形で出力してみた\n",
    "pred_df = pd.DataFrame(temp.detach().cpu().numpy(), columns=[\"気温\"])\n",
    "pred_df[[\"悲観的(0.1)\",\"通常(0.5)\",\"楽観的(0.9)\"]] = pd.DataFrame(prediction.detach().cpu().numpy())\n",
    "pred_df"
   ]
  },
  {
   "cell_type": "code",
   "execution_count": null,
   "id": "8ac5725a",
   "metadata": {},
   "outputs": [],
   "source": []
  }
 ],
 "metadata": {
  "kernelspec": {
   "display_name": "Python 3",
   "language": "python",
   "name": "python3"
  },
  "language_info": {
   "codemirror_mode": {
    "name": "ipython",
    "version": 3
   },
   "file_extension": ".py",
   "mimetype": "text/x-python",
   "name": "python",
   "nbconvert_exporter": "python",
   "pygments_lexer": "ipython3",
   "version": "3.10.12"
  }
 },
 "nbformat": 4,
 "nbformat_minor": 5
}
