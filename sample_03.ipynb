{
 "cells": [
  {
   "cell_type": "markdown",
   "metadata": {},
   "source": [
    "# PyTorchでニューラルネットワーク基礎 #03 【分類問題】\n",
    "\n",
    "* Qiitaの記事と連動しています\n",
    "* 「あっさり、こってり、塩」ラーメンの分類問題\n",
    "* ramen_data.csv"
   ]
  },
  {
   "cell_type": "code",
   "execution_count": 1,
   "metadata": {},
   "outputs": [],
   "source": [
    "import numpy as np\n",
    "import torch\n",
    "import torch.nn as nn\n",
    "from sklearn.model_selection import train_test_split"
   ]
  },
  {
   "cell_type": "markdown",
   "metadata": {},
   "source": [
    "## 精度，正答率の関数\n",
    "\n",
    "予測値と教師データで等しい値なら正解として、正解数/問題数で精度を求める単純な精度\n"
   ]
  },
  {
   "cell_type": "code",
   "execution_count": 2,
   "metadata": {},
   "outputs": [],
   "source": [
    "def accuracy(y, t):\n",
    "    _,argmax_list = torch.max(y, dim=1)\n",
    "    accuracy = sum(argmax_list == t).item()/len(t)\n",
    "    return accuracy"
   ]
  },
  {
   "cell_type": "markdown",
   "metadata": {},
   "source": [
    "## データの読み込み\n",
    "* numpy.loadtxtを利用する。\n",
    "* ラーメンタイプはID化されたラーメンタイプIDの列を利用する"
   ]
  },
  {
   "cell_type": "code",
   "execution_count": 3,
   "metadata": {},
   "outputs": [],
   "source": [
    "filename = \"./ramen_data.csv\"\n",
    "x = np.loadtxt(filename, delimiter=\",\", skiprows=1, usecols=(0,1,2,3,4))\n",
    "t = np.loadtxt(filename, delimiter=\",\", skiprows=1, usecols=(6))\n",
    "# numpyからtorchテンソルへ\n",
    "x = torch.FloatTensor(x)   # 入力するデータは Float\n",
    "t = torch.LongTensor(t)    # ラベル側はLong\n",
    "\n",
    "# データの分割 \n",
    "x, x_test, t, t_test = train_test_split(x,t, test_size=0.1, random_state=55)"
   ]
  },
  {
   "cell_type": "code",
   "execution_count": 4,
   "metadata": {},
   "outputs": [
    {
     "data": {
      "text/plain": [
       "(torch.Size([450, 5]),\n",
       " torch.Size([50, 5]),\n",
       " torch.Size([450]),\n",
       " torch.Size([50]))"
      ]
     },
     "execution_count": 4,
     "metadata": {},
     "output_type": "execute_result"
    }
   ],
   "source": [
    "x.shape, x_test.shape, t.shape, t_test.shape"
   ]
  },
  {
   "cell_type": "code",
   "execution_count": 5,
   "metadata": {},
   "outputs": [],
   "source": [
    "# モデルの定義\n",
    "class DNN(nn.Module):\n",
    "    def __init__(self):\n",
    "        super().__init__()\n",
    "        self.fc1 = nn.Linear(in_features=5, out_features=10)\n",
    "        self.act = nn.ReLU()\n",
    "        self.fc2 = nn.Linear(in_features=10, out_features=3) \n",
    "    \n",
    "    def forward(self, x):\n",
    "        h = self.fc1(x)\n",
    "        h = self.act(h)\n",
    "        y = self.fc2(h)\n",
    "        return y\n",
    "\n",
    "model = DNN()"
   ]
  },
  {
   "cell_type": "code",
   "execution_count": 6,
   "metadata": {},
   "outputs": [
    {
     "data": {
      "text/plain": [
       "DNN(\n",
       "  (fc1): Linear(in_features=5, out_features=10, bias=True)\n",
       "  (act): ReLU()\n",
       "  (fc2): Linear(in_features=10, out_features=3, bias=True)\n",
       ")"
      ]
     },
     "execution_count": 6,
     "metadata": {},
     "output_type": "execute_result"
    }
   ],
   "source": [
    "model"
   ]
  },
  {
   "cell_type": "code",
   "execution_count": 7,
   "metadata": {},
   "outputs": [],
   "source": [
    "criterion = nn.CrossEntropyLoss()                          # 損失関数：cross_entropy\n",
    "optimizer = torch.optim.Adam(model.parameters(), lr=0.05) # 学習率：lr=0.001がデフォルト"
   ]
  },
  {
   "cell_type": "code",
   "execution_count": 8,
   "metadata": {},
   "outputs": [
    {
     "name": "stdout",
     "output_type": "stream",
     "text": [
      "0: loss: 1.4135160446166992,acc:0.32666666666666666\n",
      "1: loss: 1.0877394676208496,acc:0.3377777777777778\n",
      "2: loss: 0.9669662117958069,acc:0.38\n",
      "3: loss: 0.7057425379753113,acc:0.8488888888888889\n",
      "4: loss: 0.5306286811828613,acc:0.9555555555555556\n",
      "5: loss: 0.42551159858703613,acc:0.9511111111111111\n",
      "6: loss: 0.36118173599243164,acc:0.9466666666666667\n",
      "7: loss: 0.2797268331050873,acc:0.9644444444444444\n",
      "8: loss: 0.21629399061203003,acc:0.9644444444444444\n",
      "9: loss: 0.1766132265329361,acc:0.9666666666666667\n",
      "10: loss: 0.1479174792766571,acc:0.9688888888888889\n",
      "11: loss: 0.12322233617305756,acc:0.9666666666666667\n",
      "12: loss: 0.1026899665594101,acc:0.9755555555555555\n",
      "13: loss: 0.08900816738605499,acc:0.9733333333333334\n",
      "14: loss: 0.07867202162742615,acc:0.9755555555555555\n",
      "15: loss: 0.07176391035318375,acc:0.9711111111111111\n",
      "16: loss: 0.06649196892976761,acc:0.9733333333333334\n",
      "17: loss: 0.06180734932422638,acc:0.9777777777777777\n",
      "18: loss: 0.05817347764968872,acc:0.9777777777777777\n",
      "19: loss: 0.0544944703578949,acc:0.9777777777777777\n",
      "20: loss: 0.0515005961060524,acc:0.98\n",
      "21: loss: 0.04908778890967369,acc:0.9777777777777777\n",
      "22: loss: 0.04679975286126137,acc:0.9822222222222222\n",
      "23: loss: 0.04510422423481941,acc:0.9822222222222222\n",
      "24: loss: 0.043533023446798325,acc:0.9822222222222222\n",
      "25: loss: 0.042015235871076584,acc:0.9822222222222222\n",
      "26: loss: 0.04081661254167557,acc:0.9844444444444445\n",
      "27: loss: 0.03955183923244476,acc:0.9844444444444445\n",
      "28: loss: 0.0383385494351387,acc:0.9866666666666667\n",
      "29: loss: 0.037277523428201675,acc:0.9844444444444445\n",
      "30: loss: 0.03611200675368309,acc:0.9866666666666667\n",
      "31: loss: 0.035024818032979965,acc:0.9844444444444445\n",
      "32: loss: 0.034006066620349884,acc:0.9844444444444445\n",
      "33: loss: 0.03291339799761772,acc:0.9866666666666667\n",
      "34: loss: 0.03192301094532013,acc:0.9888888888888889\n",
      "35: loss: 0.030953580513596535,acc:0.9888888888888889\n",
      "36: loss: 0.029966741800308228,acc:0.9888888888888889\n",
      "37: loss: 0.029080335050821304,acc:0.9866666666666667\n",
      "38: loss: 0.02818758226931095,acc:0.9866666666666667\n",
      "39: loss: 0.027323035523295403,acc:0.9888888888888889\n",
      "40: loss: 0.026532771065831184,acc:0.9911111111111112\n",
      "41: loss: 0.025731341913342476,acc:0.9911111111111112\n",
      "42: loss: 0.024986548349261284,acc:0.9911111111111112\n",
      "43: loss: 0.02427973411977291,acc:0.9911111111111112\n",
      "44: loss: 0.02357516810297966,acc:0.9911111111111112\n",
      "45: loss: 0.02293088659644127,acc:0.9933333333333333\n",
      "46: loss: 0.02229802869260311,acc:0.9933333333333333\n",
      "47: loss: 0.02169034443795681,acc:0.9933333333333333\n",
      "48: loss: 0.021125808358192444,acc:0.9933333333333333\n",
      "49: loss: 0.020564725622534752,acc:0.9933333333333333\n"
     ]
    }
   ],
   "source": [
    "# 機械学習\n",
    "LOOP = 50\n",
    "\n",
    "for epoch in range(LOOP):\n",
    "    optimizer.zero_grad()                 # 勾配の初期化\n",
    "    y = model(x)                          # 順伝播・NNの計算\n",
    "    loss = criterion(y, t)                # 誤差の計算\n",
    "    acc  = accuracy(y,t)                  # 精度の計算\n",
    "    print(f\"{epoch}: loss: {loss.item()},acc:{acc}\")   # 損失と精度の表示\n",
    "    loss.backward()                       # 逆伝播の計算\n",
    "    optimizer.step()                      # 重みの更新"
   ]
  },
  {
   "cell_type": "code",
   "execution_count": 9,
   "metadata": {},
   "outputs": [
    {
     "name": "stdout",
     "output_type": "stream",
     "text": [
      "テストデータによる検証\n",
      "平均精度 1.0\n"
     ]
    }
   ],
   "source": [
    "# 予測データ\n",
    "# テストデータを利用した精度をみる．\n",
    "print(\"テストデータによる検証\")\n",
    "y_test = model(x_test)\n",
    "acc = accuracy(y_test, t_test)\n",
    "print(\"平均精度\",acc)"
   ]
  },
  {
   "cell_type": "code",
   "execution_count": null,
   "metadata": {},
   "outputs": [],
   "source": []
  }
 ],
 "metadata": {
  "kernelspec": {
   "display_name": "Python 3 (ipykernel)",
   "language": "python",
   "name": "python3"
  },
  "language_info": {
   "codemirror_mode": {
    "name": "ipython",
    "version": 3
   },
   "file_extension": ".py",
   "mimetype": "text/x-python",
   "name": "python",
   "nbconvert_exporter": "python",
   "pygments_lexer": "ipython3",
   "version": "3.10.12"
  }
 },
 "nbformat": 4,
 "nbformat_minor": 4
}
