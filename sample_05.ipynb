{
 "cells": [
  {
   "cell_type": "markdown",
   "id": "58d3bffb-106e-45e6-8cfd-d51f4d7e39fa",
   "metadata": {},
   "source": [
    "# 🔰PyTorchでニューラルネットワーク基礎 #05 【画像分類・プーリング層】\n",
    "* Qiitaの記事と連動しています\n",
    "* 利用データ：aiueo.npz\n",
    "* 独立行政法人産業技術総合研究所のETL文字データベースを利用させていただきました。「あ・い・う・え・お」の５種類の画像を抽出しMNISTと対応させるべく28x28サイズに縮小したものを利用しています"
   ]
  },
  {
   "cell_type": "code",
   "execution_count": 1,
   "id": "bfb39fa1-0d18-47cd-87e2-036890ee0bdb",
   "metadata": {},
   "outputs": [],
   "source": [
    "import numpy as np\n",
    "import torch\n",
    "import torch.nn as nn\n",
    "from sklearn.model_selection import train_test_split"
   ]
  },
  {
   "cell_type": "code",
   "execution_count": 2,
   "id": "5bf1f2a9-954e-47c9-aca3-4c1323ef418a",
   "metadata": {},
   "outputs": [
    {
     "name": "stdout",
     "output_type": "stream",
     "text": [
      "Using Device Name: cuda:0\n"
     ]
    }
   ],
   "source": [
    "#デバイスの選択\n",
    "device = \"cuda:0\" if torch.cuda.is_available() else \"cpu\"\n",
    "print(\"Using Device Name:\", device)"
   ]
  },
  {
   "cell_type": "code",
   "execution_count": 3,
   "id": "3bf85415-7ee5-4a45-bbd9-8bfec37ee035",
   "metadata": {},
   "outputs": [],
   "source": [
    "# 精度を計算する関数\n",
    "def accuracy(y, t):\n",
    "    _, argmax_list = torch.max(y, dim=1)\n",
    "    accuracy = sum(argmax_list == t).item()/len(t)\n",
    "    return accuracy"
   ]
  },
  {
   "cell_type": "code",
   "execution_count": 4,
   "id": "f7ed4525-2e50-4029-8007-2ccbcde5810b",
   "metadata": {},
   "outputs": [],
   "source": [
    "data = np.load(\"./data/aiueo.npz\")\n",
    "x = data[\"x\"]\n",
    "t = data[\"t\"]\n",
    "\n",
    "# torchテンソルに変換\n",
    "x = torch.FloatTensor(x).to(device)\n",
    "t = torch.LongTensor(t).to(device)\n",
    "\n",
    "x, x_test, t, t_test = train_test_split(x,t, test_size=0.1, random_state=55)"
   ]
  },
  {
   "cell_type": "code",
   "execution_count": 5,
   "id": "1ffae40a-33af-49a8-9b05-a53df5ff8c08",
   "metadata": {},
   "outputs": [
    {
     "data": {
      "text/plain": [
       "(torch.Size([712, 1, 28, 28]), torch.Size([80, 1, 28, 28]), torch.Size([712]))"
      ]
     },
     "execution_count": 5,
     "metadata": {},
     "output_type": "execute_result"
    }
   ],
   "source": [
    "x.shape, x_test.shape, t.shape"
   ]
  },
  {
   "cell_type": "markdown",
   "id": "a2d98124-6149-470a-8c15-d0b3bd7e3bf9",
   "metadata": {},
   "source": [
    "## 確認ポイント\n",
    "1. カーネルサイズと出力後の形状\n",
    "2. out_channelsの効果\n",
    "3. flatten\n",
    "4. Linearのin_featuresの計算方法\n",
    "5. 活性化関数の引数\n",
    "   * nn.LeakyReLU()の場合は、\\_\\_init__ 内でオプションを指定\n",
    "   * F.leaky_relu()の場合は、forward()で使うときに、 F.leaky_relu(h, negative_slope=0.01)と使用時にオプションを記入\n",
    "     "
   ]
  },
  {
   "cell_type": "code",
   "execution_count": 103,
   "id": "cf9fe857-2677-42bb-9aed-7f5f086fbd4d",
   "metadata": {},
   "outputs": [
    {
     "data": {
      "text/plain": [
       "10"
      ]
     },
     "execution_count": 103,
     "metadata": {},
     "output_type": "execute_result"
    }
   ],
   "source": [
    "14-5+1"
   ]
  },
  {
   "cell_type": "code",
   "execution_count": 6,
   "id": "b00396d6-b37e-4c0e-a07d-9585057ed607",
   "metadata": {},
   "outputs": [],
   "source": [
    "class DNN(nn.Module):\n",
    "    def __init__(self):\n",
    "        super(DNN, self).__init__()\n",
    "        self.cnn1 = nn.Conv2d(in_channels=1, out_channels=5 ,kernel_size=5)\n",
    "        self.act1 = nn.LeakyReLU(negative_slope=0.01)  # Leaky ReLU導入\n",
    "        self.pool1= nn.MaxPool2d(kernel_size=2, stride=2)\n",
    "\n",
    "        self.flat = nn.Flatten()\n",
    "        self.fc1 =  nn.Linear(in_features=5*12*12, out_features=100)\n",
    "        self.act2 = nn.ReLU()\n",
    "        self.fc2 = nn.Linear(in_features=100, out_features=5)\n",
    "        \n",
    "    def forward(self, x):\n",
    "        h1 = self.cnn1(x)\n",
    "        h = self.act1(h1)\n",
    "        h2 = self.pool1(h)\n",
    "        h = self.flat(h2)\n",
    "        h = self.fc1(h)\n",
    "        h = self.act2(h)\n",
    "        y = self.fc2(h)\n",
    "        return y, h1, h2"
   ]
  },
  {
   "cell_type": "code",
   "execution_count": 7,
   "id": "37555b82-d1de-4973-b749-699c137454e5",
   "metadata": {},
   "outputs": [
    {
     "data": {
      "text/plain": [
       "DNN(\n",
       "  (cnn1): Conv2d(1, 5, kernel_size=(5, 5), stride=(1, 1))\n",
       "  (act1): LeakyReLU(negative_slope=0.01)\n",
       "  (pool1): MaxPool2d(kernel_size=2, stride=2, padding=0, dilation=1, ceil_mode=False)\n",
       "  (flat): Flatten(start_dim=1, end_dim=-1)\n",
       "  (fc1): Linear(in_features=720, out_features=100, bias=True)\n",
       "  (act2): ReLU()\n",
       "  (fc2): Linear(in_features=100, out_features=5, bias=True)\n",
       ")"
      ]
     },
     "execution_count": 7,
     "metadata": {},
     "output_type": "execute_result"
    }
   ],
   "source": [
    "model = DNN()\n",
    "model.to(device)"
   ]
  },
  {
   "cell_type": "code",
   "execution_count": 8,
   "id": "c3d19406-32fd-4a26-80d7-1e32408b6d69",
   "metadata": {},
   "outputs": [],
   "source": [
    "# loss and optimizer\n",
    "criterion = nn.CrossEntropyLoss()   \n",
    "optimizer = torch.optim.Adam(model.parameters())"
   ]
  },
  {
   "cell_type": "code",
   "execution_count": 9,
   "id": "ce232552-ea0d-4243-a0d1-90fcaa4da8a5",
   "metadata": {},
   "outputs": [
    {
     "name": "stdout",
     "output_type": "stream",
     "text": [
      "9: loss: 1.2489912509918213, acc: 0.8623595505617978\n",
      "19: loss: 0.7806177735328674, acc: 0.8735955056179775\n",
      "29: loss: 0.49601149559020996, acc: 0.8904494382022472\n",
      "39: loss: 0.38644516468048096, acc: 0.9087078651685393\n",
      "49: loss: 0.3217359483242035, acc: 0.9269662921348315\n",
      "59: loss: 0.27350902557373047, acc: 0.9396067415730337\n",
      "69: loss: 0.2350500524044037, acc: 0.9452247191011236\n",
      "79: loss: 0.20280060172080994, acc: 0.9564606741573034\n",
      "89: loss: 0.17427343130111694, acc: 0.9648876404494382\n",
      "99: loss: 0.14901182055473328, acc: 0.9705056179775281\n",
      "109: loss: 0.12673383951187134, acc: 0.9747191011235955\n",
      "119: loss: 0.10728241503238678, acc: 0.9789325842696629\n",
      "129: loss: 0.0905105322599411, acc: 0.9789325842696629\n",
      "139: loss: 0.07631848752498627, acc: 0.9845505617977528\n",
      "149: loss: 0.06442444771528244, acc: 0.9859550561797753\n"
     ]
    }
   ],
   "source": [
    "# 機械学習\n",
    "LOOP = 150\n",
    "for epoch in range(LOOP):\n",
    "    optimizer.zero_grad()\n",
    "    y,h1,h2 = model(x)\n",
    "    loss = criterion(y, t)\n",
    "    acc  = accuracy(y,t)\n",
    "    loss.backward()\n",
    "    optimizer.step()\n",
    "    if (epoch+1)%10 == 0:\n",
    "        print(f\"{epoch}: loss: {loss.item()}, acc: {acc}\")  # バッチ全体での損失や精度"
   ]
  },
  {
   "cell_type": "code",
   "execution_count": 10,
   "id": "87b34f9f-84d1-4453-9f86-75e9f270deb4",
   "metadata": {},
   "outputs": [
    {
     "name": "stdout",
     "output_type": "stream",
     "text": [
      "精度:0.9625\n"
     ]
    }
   ],
   "source": [
    "model.eval()\n",
    "y_test,_,_ = model(x_test)\n",
    "test_acc = accuracy(y_test, t_test)\n",
    "print(f\"精度:{test_acc}\")"
   ]
  },
  {
   "cell_type": "markdown",
   "id": "608e705a-9ad3-4e27-a308-c439593d35a7",
   "metadata": {},
   "source": [
    "実行すると、見た目が崩れちゃうので注意ラベル別精度\n",
    "==========================================\n",
    "\n",
    "       prediction                                   \n",
    "                あ    い         う         え         お\n",
    "true あ   0.923077  0.0  0.076923  0.000000  0.000000\n",
    "     い   0.000000  1.0  0.000000  0.000000  0.000000\n",
    "     う   0.000000  0.0  1.000000  0.000000  0.000000\n",
    "     え   0.000000  0.0  0.000000  0.866667  0.133333\n",
    "     お   0.000000  0.0  0.000000  0.000000  1.000000\n",
    "       prediction                \n",
    "                あ   い   う   え   お\n",
    "true あ         12   0   1   0   0\n",
    "     い          0  23   0   0   0\n",
    "     う          0   0  10   0   0\n",
    "     え          0   0   0  13   2\n",
    "     お          0   0   0   0  19\n"
   ]
  },
  {
   "cell_type": "markdown",
   "id": "aa9c291d-d205-4a5c-af3d-4331bdbb45ff",
   "metadata": {},
   "source": [
    "## 特徴量の可視化"
   ]
  },
  {
   "cell_type": "code",
   "execution_count": 17,
   "id": "cacd9f5f-411e-4957-8e59-3f1b8561ff1f",
   "metadata": {},
   "outputs": [
    {
     "data": {
      "image/png": "[encoded data removed]",
      "text/plain": [
       "<Figure size 200x200 with 1 Axes>"
      ]
     },
     "metadata": {},
     "output_type": "display_data"
    },
    {
     "data": {
      "image/png": "[encoded data removed]",
      "text/plain": [
       "<Figure size 1000x300 with 5 Axes>"
      ]
     },
     "metadata": {},
     "output_type": "display_data"
    },
    {
     "data": {
      "image/png": "[encoded data removed]",
      "text/plain": [
       "<Figure size 1000x300 with 5 Axes>"
      ]
     },
     "metadata": {},
     "output_type": "display_data"
    }
   ],
   "source": [
    "import matplotlib.pyplot as plt\n",
    "import japanize_matplotlib\n",
    "\n",
    "# テスト用の一つの画像を選択\n",
    "# あ：300, い：500　う：200 え：600　お:100\n",
    "sample_image = x[500].unsqueeze(0)  # バッチ次元を追加 (1, 1, 28, 28)\n",
    "\n",
    "# モデルを評価モードに\n",
    "model.eval()\n",
    "\n",
    "# 推論実行\n",
    "with torch.no_grad():\n",
    "    prediction, feature_map, act_feature_map = model(sample_image)\n",
    "    \n",
    "# 特徴マップのサイズは (1, c=1, h, w) \n",
    "# バッチとチャネル次元を削除して2D画像として表示\n",
    "feature_map = feature_map.squeeze().cpu().numpy()  # 2D配列に変換\n",
    "act_feature_map = act_feature_map.squeeze().cpu().numpy()\n",
    "\n",
    "# 元の画像と特徴マップを並べて表示\n",
    "plt.figure(figsize=(2,2))\n",
    "plt.title('元の画像')\n",
    "plt.imshow(sample_image.squeeze().cpu(), cmap='gray')\n",
    "plt.axis('off')\n",
    "plt.show()\n",
    "\n",
    "\n",
    "fig, axes = plt.subplots(1, 5, figsize=(10, 3))\n",
    "plt.suptitle('CNN出力 (特徴マップ)')\n",
    "for i, ax in enumerate(axes):\n",
    "    ax.imshow(feature_map[i], cmap=\"gray\")\n",
    "    ax.axis('off')\n",
    "plt.tight_layout()\n",
    "plt.show()\n",
    "\n",
    "\n",
    "fig, axes = plt.subplots(1, 5, figsize=(10,3))\n",
    "plt.suptitle(\"プーリング層の出力結果\")\n",
    "for i, ax in enumerate(axes):\n",
    "    ax.imshow(act_feature_map[i], cmap=\"gray\")\n",
    "    ax.axis('off')\n",
    "plt.tight_layout()\n",
    "plt.show()"
   ]
  },
  {
   "cell_type": "markdown",
   "id": "31fd8d56-cf46-44eb-ba70-044dd6dad46f",
   "metadata": {},
   "source": [
    "### カーネルの可視化"
   ]
  },
  {
   "cell_type": "code",
   "execution_count": 16,
   "id": "88d6586e-9698-4fb0-a2d2-735a2c7deff2",
   "metadata": {},
   "outputs": [
    {
     "data": {
      "image/png": "[encoded data removed]",
      "text/plain": [
       "<Figure size 1000x400 with 5 Axes>"
      ]
     },
     "metadata": {},
     "output_type": "display_data"
    }
   ],
   "source": [
    "# カーネルの重みを取得\n",
    "kernels = model.cnn1.weight.data.cpu().numpy()  # 形状は (1, 1, 5, 5)\n",
    "\n",
    "fig, axes = plt.subplots(1, 5, figsize=(10, 4))\n",
    "for i, ax in enumerate(axes.flatten()):\n",
    "    ax.imshow(kernels[i].squeeze(), cmap='gray')\n",
    "    ax.set_title(f'カーネル{i+1}枚目')\n",
    "    ax.axis('off')\n",
    "plt.tight_layout()\n",
    "plt.show()"
   ]
  },
  {
   "cell_type": "code",
   "execution_count": null,
   "id": "ef2d3634-9c1d-41f8-b1f1-8be86843d990",
   "metadata": {},
   "outputs": [],
   "source": []
  }
 ],
 "metadata": {
  "kernelspec": {
   "display_name": "Python 3 (ipykernel)",
   "language": "python",
   "name": "python3"
  },
  "language_info": {
   "codemirror_mode": {
    "name": "ipython",
    "version": 3
   },
   "file_extension": ".py",
   "mimetype": "text/x-python",
   "name": "python",
   "nbconvert_exporter": "python",
   "pygments_lexer": "ipython3",
   "version": "3.10.12"
  }
 },
 "nbformat": 4,
 "nbformat_minor": 5
}
